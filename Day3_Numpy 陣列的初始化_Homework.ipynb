{
 "cells": [
  {
   "cell_type": "markdown",
   "metadata": {
    "colab_type": "text",
    "id": "P6xk2_jLsvFF"
   },
   "source": [
    "# [作業目標]\n",
    "\n",
    "1. [簡答題] 請比較 np.zeros 和 np.empty 產生出來的陣列有何差異？為什麼要設計兩種方法？\n",
    "\n",
    "```\n",
    "print(np.zeros((2, 3)))\n",
    "print(np.empty((2, 3)))\n",
    "```\n",
    "\n",
    "2. 在不用「整數亂數方法」的限制下，如何將包含小數的轉換整數？請將給定的 a 陣列當中的元素變成去掉小數變成整數。\n",
    "3. 承上題，怎樣可以限制整數的範圍介於 m - n 之間？請將給定的 a 陣列當中的元素的範圍調整成 m - n 之間。"
   ]
  },
  {
   "cell_type": "markdown",
   "metadata": {
    "colab_type": "text",
    "id": "uXGll28asvFS"
   },
   "source": [
    "# 作業 "
   ]
  },
  {
   "cell_type": "markdown",
   "metadata": {},
   "source": [
    "### 1. [簡答題] 請比較 np.zeros 和 np.empty 產生出來的陣列有何差異？為什麼要設計兩種方法？\n",
    "\n",
    "```\n",
    "print(np.zeros((2, 3)))\n",
    "print(np.empty((2, 3)))\n",
    "```\n"
   ]
  },
  {
   "cell_type": "markdown",
   "metadata": {
    "colab": {},
    "colab_type": "code",
    "id": "5QrYoyNWsvFS"
   },
   "source": [
    "zeros會產生全部為零的元素，empty會產生極小且接近零但不為零的元素\n",
    "有時候只是想要快速初始化一個陣列，可使用empty (因不需給定數值，因此速度較快）"
   ]
  },
  {
   "cell_type": "markdown",
   "metadata": {},
   "source": [
    "### 2. 在不用「整數亂數方法」的限制下，如何將包含小數的轉換整數？請將給定的 a 陣列當中的元素變成去掉小數變成整數。\n"
   ]
  },
  {
   "cell_type": "code",
   "execution_count": 8,
   "metadata": {},
   "outputs": [],
   "source": [
    "# 記得先 Import 正確的套件\n",
    "import numpy as np"
   ]
  },
  {
   "cell_type": "code",
   "execution_count": 17,
   "metadata": {
    "colab": {},
    "colab_type": "code",
    "id": "e1gVI0tvsvFY"
   },
   "outputs": [
    {
     "name": "stdout",
     "output_type": "stream",
     "text": [
      "[[69.33698067 49.59257851 12.24112967]\n",
      " [29.3256552  66.50940603 39.96761627]]\n",
      "[[69 49 12]\n",
      " [29 66 39]]\n",
      "[[69. 50. 12.]\n",
      " [29. 67. 40.]]\n",
      "[[69. 50. 12.]\n",
      " [29. 67. 40.]]\n"
     ]
    }
   ],
   "source": [
    "# 參考解答\n",
    "\n",
    "a = np.random.rand(2, 3)\n",
    "a = a * 100\n",
    "print(a)\n",
    "print(np.array(a, dtype=int))#直接去掉小數\n",
    "\n",
    "#老師方法 ＃四捨五入\n",
    "print(a.round())\n",
    "print(np.round(a))"
   ]
  },
  {
   "cell_type": "markdown",
   "metadata": {},
   "source": [
    "### 3. 承上題，怎樣可以限制整數的範圍介於 m - n 之間？請將給定的 a 陣列當中的元素的範圍調整成 m - n 之間。\n"
   ]
  },
  {
   "cell_type": "code",
   "execution_count": 39,
   "metadata": {},
   "outputs": [
    {
     "name": "stdout",
     "output_type": "stream",
     "text": [
      "[[0.55499795 0.80682943 0.56743796]\n",
      " [0.97162424 0.13682211 0.54315308]]\n"
     ]
    }
   ],
   "source": [
    "m = 20\n",
    "n = 40\n",
    "a = np.random.rand(2, 3)\n",
    "print(a)"
   ]
  },
  {
   "cell_type": "code",
   "execution_count": 40,
   "metadata": {},
   "outputs": [
    {
     "name": "stdout",
     "output_type": "stream",
     "text": [
      "[[31.09995897 36.1365885  31.34875915]\n",
      " [39.43248483 22.73644229 30.8630616 ]]\n"
     ]
    }
   ],
   "source": [
    "print(a * (n - m) + m)"
   ]
  },
  {
   "cell_type": "code",
   "execution_count": 44,
   "metadata": {},
   "outputs": [
    {
     "name": "stdout",
     "output_type": "stream",
     "text": [
      "[[11.09995897 16.1365885  11.34875915]\n",
      " [19.43248483  2.73644229 10.8630616 ]]\n",
      "[[11.09995897 16.1365885  11.34875915]\n",
      " [19.43248483  2.73644229 10.8630616 ]]\n",
      "[[31. 36. 31.]\n",
      " [39. 22. 30.]]\n"
     ]
    }
   ],
   "source": [
    "#老師方法\n",
    "a = a * (n - m)\n",
    "print(a)\n",
    "b = a \n",
    "print(b)\n",
    "print((a - b % 1) + m)"
   ]
  },
  {
   "cell_type": "code",
   "execution_count": 41,
   "metadata": {},
   "outputs": [],
   "source": [
    "#正規化方法\n",
    "def min_max_scale(arr, target_min, target_max):\n",
    "    arr_min = arr.min()\n",
    "    arr_max = arr.max()\n",
    "    if arr_min == arr_max:\n",
    "        return np.full_like(arr, fill_value=target_min)\n",
    "    normalized = (arr - arr_min) / (arr_max - arr_min)\n",
    "    return normalized * (target_max - target_min) + target_min"
   ]
  },
  {
   "cell_type": "code",
   "execution_count": 42,
   "metadata": {},
   "outputs": [
    {
     "data": {
      "text/plain": [
       "array([[30.01856177, 36.05188317, 30.31659669],\n",
       "       [40.        , 20.        , 29.7347851 ]])"
      ]
     },
     "execution_count": 42,
     "metadata": {},
     "output_type": "execute_result"
    }
   ],
   "source": [
    "rescaled = min_max_scale(a, 20, 40)\n",
    "rescaled"
   ]
  },
  {
   "cell_type": "code",
   "execution_count": 43,
   "metadata": {},
   "outputs": [
    {
     "name": "stdout",
     "output_type": "stream",
     "text": [
      "[[30.01856177 36.05188317 30.31659669]\n",
      " [40.         20.         29.7347851 ]]\n"
     ]
    }
   ],
   "source": [
    "# 最小最大正規化公式\n",
    "a_min = a.min()\n",
    "a_max = a.max()\n",
    "\n",
    "normalized = (a - a_min) / (a_max - a_min) \n",
    "rescaled = normalized * (n - m) + m\n",
    "\n",
    "print(rescaled)"
   ]
  },
  {
   "cell_type": "code",
   "execution_count": null,
   "metadata": {},
   "outputs": [],
   "source": []
  }
 ],
 "metadata": {
  "colab": {
   "name": "Day_023_HW.ipynb",
   "provenance": []
  },
  "kernelspec": {
   "display_name": "Python 3 (ipykernel)",
   "language": "python",
   "name": "python3"
  },
  "language_info": {
   "codemirror_mode": {
    "name": "ipython",
    "version": 3
   },
   "file_extension": ".py",
   "mimetype": "text/x-python",
   "name": "python",
   "nbconvert_exporter": "python",
   "pygments_lexer": "ipython3",
   "version": "3.9.13"
  }
 },
 "nbformat": 4,
 "nbformat_minor": 1
}
