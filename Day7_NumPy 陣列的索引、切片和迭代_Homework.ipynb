{
 "cells": [
  {
   "cell_type": "markdown",
   "metadata": {
    "colab_type": "text",
    "id": "P6xk2_jLsvFF"
   },
   "source": [
    "# [作業目標]\n",
    "\n",
    "1. 請比較對一個 100 x 100 * 100 的陣列，使用不同方法對每一個元素 +1 的時間比較。\n",
    "\n",
    "2. 如何從一個陣列中，找出出現頻率最高的數值與位置？\n",
    "\n",
    "3. 如何利用 list(...) 實現 a.tolist() 的效果？試著用程式實作。\n"
   ]
  },
  {
   "cell_type": "markdown",
   "metadata": {
    "colab_type": "text",
    "id": "uXGll28asvFS"
   },
   "source": [
    "# 作業 "
   ]
  },
  {
   "cell_type": "markdown",
   "metadata": {},
   "source": [
    "### 1. 請比較對一個 1000 x 100 x 100 的陣列，使用不同方法對每一個元素 +1 的時間比較。\n",
    "\n",
    "\n"
   ]
  },
  {
   "cell_type": "code",
   "execution_count": 1,
   "metadata": {},
   "outputs": [],
   "source": [
    "# 記得先 Import 正確的套件\n",
    "import numpy as np"
   ]
  },
  {
   "cell_type": "code",
   "execution_count": 3,
   "metadata": {
    "colab": {},
    "colab_type": "code",
    "id": "5QrYoyNWsvFS"
   },
   "outputs": [],
   "source": [
    "Z = np.random.randint(0, 10, 1000000).reshape(100, 100, 100)"
   ]
  },
  {
   "cell_type": "code",
   "execution_count": 8,
   "metadata": {},
   "outputs": [
    {
     "name": "stdout",
     "output_type": "stream",
     "text": [
      "[[[5 5 3 ... 9 5 9]\n",
      "  [1 1 1 ... 7 4 4]\n",
      "  [1 2 5 ... 6 8 3]\n",
      "  ...\n",
      "  [5 9 1 ... 4 5 1]\n",
      "  [4 6 2 ... 3 9 0]\n",
      "  [1 7 9 ... 9 0 6]]\n",
      "\n",
      " [[3 0 3 ... 7 4 4]\n",
      "  [5 8 0 ... 1 7 4]\n",
      "  [3 8 1 ... 4 9 8]\n",
      "  ...\n",
      "  [8 5 2 ... 4 7 5]\n",
      "  [4 8 3 ... 8 2 0]\n",
      "  [3 0 4 ... 3 0 0]]\n",
      "\n",
      " [[8 7 0 ... 1 9 4]\n",
      "  [5 1 2 ... 6 8 5]\n",
      "  [6 1 2 ... 0 7 5]\n",
      "  ...\n",
      "  [3 2 9 ... 3 7 4]\n",
      "  [5 4 2 ... 8 5 5]\n",
      "  [6 4 5 ... 1 6 8]]\n",
      "\n",
      " ...\n",
      "\n",
      " [[7 9 3 ... 2 4 6]\n",
      "  [7 4 0 ... 4 9 5]\n",
      "  [9 3 3 ... 4 4 5]\n",
      "  ...\n",
      "  [7 4 5 ... 6 8 4]\n",
      "  [9 9 0 ... 9 5 6]\n",
      "  [3 8 6 ... 1 2 5]]\n",
      "\n",
      " [[2 5 8 ... 4 9 3]\n",
      "  [2 5 8 ... 7 8 1]\n",
      "  [0 9 4 ... 3 7 8]\n",
      "  ...\n",
      "  [3 9 1 ... 4 5 5]\n",
      "  [7 1 0 ... 8 0 5]\n",
      "  [1 6 9 ... 4 7 0]]\n",
      "\n",
      " [[2 9 9 ... 5 9 8]\n",
      "  [6 5 1 ... 9 1 5]\n",
      "  [8 0 8 ... 5 1 6]\n",
      "  ...\n",
      "  [0 8 7 ... 9 9 7]\n",
      "  [4 8 5 ... 4 6 4]\n",
      "  [1 4 7 ... 3 4 7]]]\n"
     ]
    }
   ],
   "source": [
    "print(Z)"
   ]
  },
  {
   "cell_type": "code",
   "execution_count": 6,
   "metadata": {},
   "outputs": [
    {
     "name": "stdout",
     "output_type": "stream",
     "text": [
      "76.8 ns ± 21.4 ns per loop (mean ± std. dev. of 7 runs, 10 loops each)\n"
     ]
    }
   ],
   "source": [
    "%timeit -n 10 a = 2\n",
    "for i in np.nditer(Z):\n",
    "    i=i+1"
   ]
  },
  {
   "cell_type": "code",
   "execution_count": 13,
   "metadata": {},
   "outputs": [
    {
     "name": "stdout",
     "output_type": "stream",
     "text": [
      "113 ns ± 25.3 ns per loop (mean ± std. dev. of 7 runs, 10 loops each)\n"
     ]
    }
   ],
   "source": [
    "%timeit -n 10 a = 2\n",
    "for i in Z:\n",
    "    for j in i:\n",
    "        for k in j:\n",
    "            k=k+1"
   ]
  },
  {
   "cell_type": "code",
   "execution_count": 14,
   "metadata": {},
   "outputs": [
    {
     "name": "stdout",
     "output_type": "stream",
     "text": [
      "73.8 ns ± 19.4 ns per loop (mean ± std. dev. of 7 runs, 10 loops each)\n"
     ]
    }
   ],
   "source": [
    "%timeit -n 10 a = 2\n",
    "\n",
    "for i in Z.flat:\n",
    "    i=i+1"
   ]
  },
  {
   "cell_type": "markdown",
   "metadata": {},
   "source": [
    "### 2. 如何從一個陣列中，找出出現頻率最高的數值與位置？\n"
   ]
  },
  {
   "cell_type": "code",
   "execution_count": 20,
   "metadata": {
    "colab": {},
    "colab_type": "code",
    "id": "e1gVI0tvsvFY"
   },
   "outputs": [
    {
     "name": "stdout",
     "output_type": "stream",
     "text": [
      "[3 1 8 0 1 2 9 4 0 0 4 8 9 7 2 8 3 1 7 7 5 9 3 0 1 1 5 1 4 3 2 6 1 5 5 8 5\n",
      " 6 9 1 1 3 2 7 2 6 6 9 4 0]\n"
     ]
    }
   ],
   "source": [
    "\n",
    "Z = np.random.randint(0,10,50)\n",
    "print(Z)\n"
   ]
  },
  {
   "cell_type": "code",
   "execution_count": 24,
   "metadata": {},
   "outputs": [
    {
     "name": "stdout",
     "output_type": "stream",
     "text": [
      "1\n"
     ]
    },
    {
     "data": {
      "text/plain": [
       "array([ 1,  4, 17, 24, 25, 27, 32, 39, 40])"
      ]
     },
     "execution_count": 24,
     "metadata": {},
     "output_type": "execute_result"
    }
   ],
   "source": [
    "find_num = np.bincount(Z).argmax()\n",
    "print(find_num)\n",
    "np.where(Z==find_num)[0]"
   ]
  },
  {
   "cell_type": "markdown",
   "metadata": {},
   "source": [
    "### 3. 如何利用 list(...) 實現 a.tolist() 的效果？試著用程式實作。\n"
   ]
  },
  {
   "cell_type": "code",
   "execution_count": 28,
   "metadata": {},
   "outputs": [
    {
     "name": "stdout",
     "output_type": "stream",
     "text": [
      "[9, 1, 0, 2, 2, 1]\n",
      "[9, 1, 0, 2, 2, 1]\n",
      "[[1, 0, 8, 2], [0, 7, 3, 4], [0, 8, 1, 0]]\n",
      "[array([1, 0, 8, 2]), array([0, 7, 3, 4]), array([0, 8, 1, 0])]\n",
      "[[[1, 9], [3, 3], [2, 9]], [[9, 1], [8, 9], [4, 5]]]\n",
      "[array([[1, 9],\n",
      "       [3, 3],\n",
      "       [2, 9]]), array([[9, 1],\n",
      "       [8, 9],\n",
      "       [4, 5]])]\n"
     ]
    }
   ],
   "source": [
    "a = np.random.randint(10, size=6) \n",
    "\n",
    "print(a.tolist())\n",
    "print(list(a))\n",
    "\n",
    "\n",
    "b = np.random.randint(10, size=(3,4)) \n",
    "\n",
    "print(b.tolist())\n",
    "print(list(b))\n",
    "\n",
    "\n",
    "c = np.random.randint(10, size=(2,3,2)) \n",
    "\n",
    "print(c.tolist())\n",
    "print(list(c))\n"
   ]
  },
  {
   "cell_type": "code",
   "execution_count": 29,
   "metadata": {},
   "outputs": [],
   "source": [
    "def tolist(x):\n",
    "    if isinstance(x, np.ndarray): #檢查是否為ndarray\n",
    "        return [tolist(i) for i in x]#對這一層裡的每個元素 i，都再次呼叫 tolist(i)，這樣就能一層一層往下轉換。\n",
    "    elif isinstance(x, (list, tuple)):#或是可迭代的list, tuple\n",
    "        return [tolist(i) for i in x]\n",
    "    else:\n",
    "        return x #不是ist or tuple or ndarray的話則回傳元素\n"
   ]
  },
  {
   "cell_type": "code",
   "execution_count": 30,
   "metadata": {},
   "outputs": [
    {
     "name": "stdout",
     "output_type": "stream",
     "text": [
      "[9, 1, 0, 2, 2, 1]\n",
      "[[1, 0, 8, 2], [0, 7, 3, 4], [0, 8, 1, 0]]\n",
      "[[[1, 9], [3, 3], [2, 9]], [[9, 1], [8, 9], [4, 5]]]\n"
     ]
    }
   ],
   "source": [
    "print(tolist(a))\n",
    "print(tolist(b))\n",
    "print(tolist(c))"
   ]
  },
  {
   "cell_type": "code",
   "execution_count": null,
   "metadata": {},
   "outputs": [],
   "source": []
  }
 ],
 "metadata": {
  "colab": {
   "name": "Day_023_HW.ipynb",
   "provenance": []
  },
  "kernelspec": {
   "display_name": "Python 3 (ipykernel)",
   "language": "python",
   "name": "python3"
  },
  "language_info": {
   "codemirror_mode": {
    "name": "ipython",
    "version": 3
   },
   "file_extension": ".py",
   "mimetype": "text/x-python",
   "name": "python",
   "nbconvert_exporter": "python",
   "pygments_lexer": "ipython3",
   "version": "3.9.13"
  }
 },
 "nbformat": 4,
 "nbformat_minor": 1
}
